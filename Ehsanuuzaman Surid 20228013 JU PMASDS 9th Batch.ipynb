{
 "cells": [
  {
   "cell_type": "markdown",
   "id": "583fb246",
   "metadata": {},
   "source": [
    "# 1.Write a Python program to count the number of characters (character frequency) in a string. Sample String : google.com\n",
    "\n",
    "## Expected Result : {'o': 3, 'g': 2, '.': 1, 'e': 1, 'l': 1, }"
   ]
  },
  {
   "cell_type": "code",
   "execution_count": 1,
   "id": "2b897088",
   "metadata": {},
   "outputs": [
    {
     "name": "stdout",
     "output_type": "stream",
     "text": [
      "{'o': 3, 'g': 2, 'l': 1, 'e': 1, '.': 1, 'c': 1, 'm': 1}\n"
     ]
    }
   ],
   "source": [
    "# Give the input\n",
    "\n",
    "word = 'google.com'\n",
    "\n",
    "# If you want to make it user defined function then un comment the code below and comment the above word\n",
    "#word = input(\"Please enter a string: \")\n",
    "\n",
    "\n",
    "my_dict = {}\n",
    "\n",
    "# count the number of occurrences of each letter\n",
    "for letter in word:\n",
    "    if letter in my_dict:\n",
    "        my_dict[letter] += 1\n",
    "    else:\n",
    "        my_dict[letter] = 1\n",
    "\n",
    "# sort the dictionary by frequency\n",
    "sorted_dict = dict(sorted(my_dict.items(), key=lambda item: item[1], reverse=True))\n",
    "\n",
    "print(sorted_dict)\n"
   ]
  },
  {
   "cell_type": "markdown",
   "id": "1d4b86e8",
   "metadata": {},
   "source": [
    "# 2. Write a Python program to check if a given key already exists in a dictionary"
   ]
  },
  {
   "cell_type": "code",
   "execution_count": 2,
   "id": "3217bcce",
   "metadata": {},
   "outputs": [
    {
     "name": "stdout",
     "output_type": "stream",
     "text": [
      "Please insert the key as a string: surid\n",
      "surid The key already exists\n"
     ]
    }
   ],
   "source": [
    "# it is a user defined function where the program checks if the dictionary already has a value as a key present \n",
    "\n",
    "def Key_check(My_dict, key):\n",
    "    if key in My_dict.keys():\n",
    "        print(f'{key} The key already exists')\n",
    "    else:\n",
    "        print(f'{key} This key does not exist in the dictionary')\n",
    "\n",
    "# Input any type of dictionary here        \n",
    "My_dict={'surid':'20221033', 'Ehsan':'2011456'}\n",
    "\n",
    "check=input(\"Please insert the key as a string: \")\n",
    "\n",
    "Key_check(My_dict, check)\n",
    "\n",
    "    "
   ]
  },
  {
   "cell_type": "markdown",
   "id": "c0ff22ad",
   "metadata": {},
   "source": [
    "# 3.Write a Python program that accepts a sequence of comma-separated numbers from the user and generates a list and a tuple of those numbers. Sample data : 1, 5, 7, 23\n",
    "### Expected Output :\n",
    "### List : ['1', ' 5', ' 7', ' 23']\n",
    "### Tuple : ('1', ' 5', ' 7', ' 23)"
   ]
  },
  {
   "cell_type": "code",
   "execution_count": 3,
   "id": "0e8c82fa",
   "metadata": {},
   "outputs": [
    {
     "name": "stdout",
     "output_type": "stream",
     "text": [
      "How many numbers do you want to include in the list 4\n",
      "Please input a number by typing the number and pressing enter key : 1\n",
      "Please input a number by typing the number and pressing enter key : 5\n",
      "Please input a number by typing the number and pressing enter key : 7\n",
      "Please input a number by typing the number and pressing enter key : 23\n",
      "[1, 5, 7, 23]\n",
      "(1, 5, 7, 23)\n"
     ]
    }
   ],
   "source": [
    "Number=int(input(\"How many numbers do you want to include in the list \"))\n",
    "\n",
    "# Defining an empty list\n",
    "My_list=[]\n",
    "\n",
    "# looping through all the elements and adding them in the empty list\n",
    "\n",
    "for i in range(0,Number): \n",
    "    User_input=int(input(\"Please input a number by typing the number and pressing enter key : \"))\n",
    "    My_list.append(User_input)\n",
    "print(My_list)\n",
    "print(tuple(My_list))"
   ]
  },
  {
   "cell_type": "markdown",
   "id": "a46b27b3",
   "metadata": {},
   "source": [
    "# 4. Write a Python program to calculate the number of days between two dates. Sample dates : (2014, 7, 2), (2014, 7, 11)\n",
    "## Expected output : 9 days"
   ]
  },
  {
   "cell_type": "code",
   "execution_count": 19,
   "id": "eb45f957",
   "metadata": {},
   "outputs": [
    {
     "name": "stdout",
     "output_type": "stream",
     "text": [
      "Input the first date in the format yyyy,m,d 2013\n",
      "Input the first date in the format yyyy,m,d 7\n",
      "Input the first date in the format yyyy,m,d 2\n",
      "(2013, 7, 2)\n",
      "Input the first date in the format yyyy,m,d 2014\n",
      "Input the first date in the format yyyy,m,d 7\n",
      "Input the first date in the format yyyy,m,d 11\n",
      "(2014, 7, 11)\n",
      "Number of days between the two dates: 374\n"
     ]
    }
   ],
   "source": [
    "# The last program is actually a hint on how to solve this problem\n",
    "Number_1=3\n",
    "Number_2=1\n",
    "Number_3=1\n",
    "\n",
    "#Date_1=int(input(\"Input the first date in the format yyyy,m,d \"))\n",
    "first_date=[]\n",
    "\n",
    "for i in range(0,Number_1):\n",
    "    Date_1=int(input(\"Input the first date in the format yyyy,m,d \"))\n",
    "    first_date.append(Date_1)\n",
    "#print(first_date)\n",
    "print(tuple(first_date))\n",
    "\n",
    "\n",
    "#Date_2=int(input(\"Input the secomd date in the format yyyy,m,d \"))\n",
    "second_date=[]\n",
    "\n",
    "for i in range(0,Number_1):\n",
    "    Date_2=int(input(\"Input the first date in the format yyyy,m,d \"))\n",
    "    second_date.append(Date_2)\n",
    "#print(second_date)\n",
    "print(tuple(second_date))\n",
    "\n",
    "import datetime  \n",
    "\n",
    "# create datetime objects for the two dates\n",
    "date1 = datetime.datetime(first_date[0], first_date[1], first_date[2])\n",
    "date2 = datetime.datetime(second_date[0], second_date[1], second_date[2])\n",
    "\n",
    "# calculate the number of days between the two dates\n",
    "date = date2 - date1\n",
    "\n",
    "# output the result\n",
    "print(f\"Number of days between the two dates: {date.days}\")\n"
   ]
  },
  {
   "cell_type": "markdown",
   "id": "295a7ab2",
   "metadata": {},
   "source": [
    "# 5. Write a Python program to solve (x + y) * (x + y). Test Data : x = 4, y = 3\n",
    "## Expected Output : (4 + 3) ^ 2) = 49"
   ]
  },
  {
   "cell_type": "code",
   "execution_count": 20,
   "id": "737cd432",
   "metadata": {},
   "outputs": [
    {
     "name": "stdout",
     "output_type": "stream",
     "text": [
      "input a number: 4\n",
      "input a number: 3\n",
      "49\n"
     ]
    }
   ],
   "source": [
    "# Take two inputs as integars and write the equation\n",
    "x=int(input(\"input a number: \"))\n",
    "y=int(input(\"input a number: \"))\n",
    "\n",
    "math=(x+y)*(x+y)\n",
    "print(math)"
   ]
  },
  {
   "cell_type": "markdown",
   "id": "171fc319",
   "metadata": {},
   "source": [
    "# 6. Write a Python program to compute the future value of a specified principal amount, rate of interest, and number of years. Test Data : amt = 10000, int = 3.5, years = 7\n",
    "## Expected Output : 12722.79"
   ]
  },
  {
   "cell_type": "code",
   "execution_count": 35,
   "id": "c1ca46b2",
   "metadata": {},
   "outputs": [
    {
     "name": "stdout",
     "output_type": "stream",
     "text": [
      "Enter the principal amount: 10000\n",
      "Enter the interest rate: 3.5\n",
      "Enter the number of years: 7\n",
      "The future value is: 12722.79\n"
     ]
    }
   ],
   "source": [
    "# The 3 inputs are taken and then the formula is applied to calculate the result\n",
    "principal_amount = float(input(\"Enter the principal amount: \"))\n",
    "rate_interest = float(input(\"Enter the interest rate: \"))\n",
    "years = int(input(\"Enter the number of years: \"))\n",
    "\n",
    "future_value = principal_amount * ((1 + (rate_interest/100)) ** years)\n",
    "\n",
    "print(\"The future value is:\", round(future_value, 2))\n"
   ]
  },
  {
   "cell_type": "markdown",
   "id": "ab95fa74",
   "metadata": {},
   "source": [
    "# 7. Write a Python program that removes duplicate elements from a given array of numbers sothat each element appears only once and returns the new length of the array. Sample Input: [0,0,1,1,2,2,3,3,4,4,4]\n",
    "## Sample Output:\n",
    "### The list of unique numbers: [0,1,2,3,4]\n",
    "### length of the unique list  : 5"
   ]
  },
  {
   "cell_type": "code",
   "execution_count": 31,
   "id": "d11b0ae4",
   "metadata": {},
   "outputs": [
    {
     "name": "stdout",
     "output_type": "stream",
     "text": [
      "Enter a list of integers with space: 0 0 1 1 2 2 3 3 4 4 4\n",
      "The list of unique numbers: [0, 1, 2, 3, 4]\n",
      "Length of the unique list:  5\n"
     ]
    }
   ],
   "source": [
    "my_list = input(\"Enter a list of integers with space: \").split(\" \")\n",
    "my_list = [int(x) for x in my_list]\n",
    "new_list = []\n",
    "\n",
    "# It will loop through and add elements in the list not present in the new_list\n",
    "for element in my_list:\n",
    "    if element not in new_list:\n",
    "        new_list.append(element)\n",
    "print(f\"The list of unique numbers: {new_list}\")\n",
    "print(\"Length of the unique list: \", len(new_list))\n"
   ]
  },
  {
   "cell_type": "markdown",
   "id": "61b03d14",
   "metadata": {},
   "source": [
    "# 8. Write a Python program to sort (ascending and descending) a dictionary by key value"
   ]
  },
  {
   "cell_type": "code",
   "execution_count": 32,
   "id": "c9e36533",
   "metadata": {},
   "outputs": [
    {
     "name": "stdout",
     "output_type": "stream",
     "text": [
      "Sorted dictionary in ascending order: {1: 'ehsan', 2: 'xaman', 3: 'surid'}\n",
      "Sorted dictionary in descending order: {3: 'surid', 2: 'xaman', 1: 'ehsan'}\n"
     ]
    }
   ],
   "source": [
    "# Define a sample dictionary\n",
    "my_dict = {2: 'xaman', 1: 'ehsan', 3: 'surid'}\n",
    "\n",
    "# Sort the dictionary by key in ascending order\n",
    "sorted_dict = dict(sorted(my_dict.items(), key=lambda item: item[0]))\n",
    "\n",
    "# Print the sorted dictionary in ascending order\n",
    "print(\"Sorted dictionary in ascending order:\", sorted_dict)\n",
    "\n",
    "# Sort the dictionary by key in descending order\n",
    "sorted_dict = dict(sorted(my_dict.items(), key=lambda item: item[0], reverse=True))\n",
    "\n",
    "# Print the sorted dictionary in descending order\n",
    "print(\"Sorted dictionary in descending order:\", sorted_dict)\n"
   ]
  },
  {
   "cell_type": "markdown",
   "id": "fb4d4e60",
   "metadata": {},
   "source": [
    "# 9. Write a Python program to add key to a dictionary. Go to the editor\n",
    "## Sample Dictionary : {0: 10, 1: 20}\n",
    "## Expected Result : {0: 10, 1: 20, 2: 30}"
   ]
  },
  {
   "cell_type": "code",
   "execution_count": 33,
   "id": "b4404cde",
   "metadata": {},
   "outputs": [
    {
     "name": "stdout",
     "output_type": "stream",
     "text": [
      "{0: 10, 1: 20, 2: 30}\n"
     ]
    }
   ],
   "source": [
    "# sample dictionary\n",
    "my_dict = {0: 10, 1: 20}\n",
    "\n",
    "# add a new key-value pair\n",
    "my_dict[2] = 30\n",
    "\n",
    "# print the updated dictionary\n",
    "print(my_dict)\n"
   ]
  },
  {
   "cell_type": "markdown",
   "id": "39391626",
   "metadata": {},
   "source": [
    "# Write a Pandas program to create and display a DataFrame from a specified dictionary datawhich has the index labels. Sample Python dictionary data and list labels:\n",
    "### exam_data = {'name': ['Arif', 'Asir', 'Arik', 'Anis', 'Anil', 'Ashish', 'Anahi', 'Alia', 'Alvin', 'Asim'],\n",
    "### 'score': [12.5, 9, 16.5, np.nan, 9, 20, 14.5, np.nan, 8, 19],\n",
    "### 'attempts': [1, 3, 2, 3, 2, 3, 1, 1, 2, 1],\n",
    "### 'qualify': ['yes', 'no', 'yes', 'no', 'no', 'yes', 'yes', 'no', 'no', 'yes']}\n",
    "### labels = ['a', 'b', 'c', 'd', 'e', 'f', 'g',"
   ]
  },
  {
   "cell_type": "code",
   "execution_count": 34,
   "id": "822486c5",
   "metadata": {},
   "outputs": [
    {
     "name": "stdout",
     "output_type": "stream",
     "text": [
      "     name  score  attempts qualify\n",
      "a    Arif   12.5         1     yes\n",
      "b    Asir    9.0         3      no\n",
      "c    Arik   16.5         2     yes\n",
      "d    Anis    NaN         3      no\n",
      "e    Anil    9.0         2      no\n",
      "f  Ashish   20.0         3     yes\n",
      "g   Anahi   14.5         1     yes\n",
      "h    Alia    NaN         1      no\n",
      "i   Alvin    8.0         2      no\n",
      "j    Asim   19.0         1     yes\n"
     ]
    }
   ],
   "source": [
    "import pandas as pd\n",
    "import numpy as np\n",
    "\n",
    "exam_data = {\n",
    "    'name': ['Arif', 'Asir', 'Arik', 'Anis', 'Anil', 'Ashish', 'Anahi', 'Alia', 'Alvin', 'Asim'],\n",
    "    'score': [12.5, 9, 16.5, np.nan, 9, 20, 14.5, np.nan, 8, 19],\n",
    "    'attempts': [1, 3, 2, 3, 2, 3, 1, 1, 2, 1],\n",
    "    'qualify': ['yes', 'no', 'yes', 'no', 'no', 'yes', 'yes', 'no', 'no', 'yes']\n",
    "}\n",
    "\n",
    "labels = ['a', 'b', 'c', 'd', 'e', 'f', 'g', 'h', 'i', 'j']\n",
    "\n",
    "df = pd.DataFrame(exam_data, index=labels)\n",
    "\n",
    "print(df)\n"
   ]
  },
  {
   "cell_type": "code",
   "execution_count": null,
   "id": "1136763c",
   "metadata": {},
   "outputs": [],
   "source": []
  }
 ],
 "metadata": {
  "kernelspec": {
   "display_name": "Python 3 (ipykernel)",
   "language": "python",
   "name": "python3"
  },
  "language_info": {
   "codemirror_mode": {
    "name": "ipython",
    "version": 3
   },
   "file_extension": ".py",
   "mimetype": "text/x-python",
   "name": "python",
   "nbconvert_exporter": "python",
   "pygments_lexer": "ipython3",
   "version": "3.10.9"
  }
 },
 "nbformat": 4,
 "nbformat_minor": 5
}
